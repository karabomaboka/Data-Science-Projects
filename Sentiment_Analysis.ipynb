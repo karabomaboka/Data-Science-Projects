{
  "nbformat": 4,
  "nbformat_minor": 0,
  "metadata": {
    "colab": {
      "name": "Sentiment Analysis",
      "provenance": [],
      "include_colab_link": true
    },
    "kernelspec": {
      "name": "python3",
      "display_name": "Python 3"
    }
  },
  "cells": [
    {
      "cell_type": "markdown",
      "metadata": {
        "id": "view-in-github",
        "colab_type": "text"
      },
      "source": [
        "<a href=\"https://colab.research.google.com/github/karabomaboka/Data-Science-Projects/blob/master/Sentiment_Analysis.ipynb\" target=\"_parent\"><img src=\"https://colab.research.google.com/assets/colab-badge.svg\" alt=\"Open In Colab\"/></a>"
      ]
    },
    {
      "cell_type": "code",
      "metadata": {
        "id": "ybKjD2c2iu9O",
        "colab_type": "code",
        "colab": {}
      },
      "source": [
        "#Get sentiment of text from a website"
      ],
      "execution_count": 0,
      "outputs": []
    },
    {
      "cell_type": "code",
      "metadata": {
        "id": "jCb4QoX0jCsW",
        "colab_type": "code",
        "colab": {
          "base_uri": "https://localhost:8080/",
          "height": 925
        },
        "outputId": "ef1e459d-5d65-4c0a-86ce-ca0522d765cd"
      },
      "source": [
        "pip install newspaper3k"
      ],
      "execution_count": 3,
      "outputs": [
        {
          "output_type": "stream",
          "text": [
            "Collecting newspaper3k\n",
            "\u001b[?25l  Downloading https://files.pythonhosted.org/packages/d7/b9/51afecb35bb61b188a4b44868001de348a0e8134b4dfa00ffc191567c4b9/newspaper3k-0.2.8-py3-none-any.whl (211kB)\n",
            "\r\u001b[K     |█▌                              | 10kB 19.1MB/s eta 0:00:01\r\u001b[K     |███                             | 20kB 3.2MB/s eta 0:00:01\r\u001b[K     |████▋                           | 30kB 4.0MB/s eta 0:00:01\r\u001b[K     |██████▏                         | 40kB 2.9MB/s eta 0:00:01\r\u001b[K     |███████▊                        | 51kB 3.3MB/s eta 0:00:01\r\u001b[K     |█████████▎                      | 61kB 4.0MB/s eta 0:00:01\r\u001b[K     |██████████▉                     | 71kB 4.3MB/s eta 0:00:01\r\u001b[K     |████████████▍                   | 81kB 4.4MB/s eta 0:00:01\r\u001b[K     |██████████████                  | 92kB 4.9MB/s eta 0:00:01\r\u001b[K     |███████████████▌                | 102kB 4.8MB/s eta 0:00:01\r\u001b[K     |█████████████████               | 112kB 4.8MB/s eta 0:00:01\r\u001b[K     |██████████████████▋             | 122kB 4.8MB/s eta 0:00:01\r\u001b[K     |████████████████████▏           | 133kB 4.8MB/s eta 0:00:01\r\u001b[K     |█████████████████████▊          | 143kB 4.8MB/s eta 0:00:01\r\u001b[K     |███████████████████████▎        | 153kB 4.8MB/s eta 0:00:01\r\u001b[K     |████████████████████████▉       | 163kB 4.8MB/s eta 0:00:01\r\u001b[K     |██████████████████████████▍     | 174kB 4.8MB/s eta 0:00:01\r\u001b[K     |████████████████████████████    | 184kB 4.8MB/s eta 0:00:01\r\u001b[K     |█████████████████████████████▌  | 194kB 4.8MB/s eta 0:00:01\r\u001b[K     |███████████████████████████████ | 204kB 4.8MB/s eta 0:00:01\r\u001b[K     |████████████████████████████████| 215kB 4.8MB/s \n",
            "\u001b[?25hCollecting feedparser>=5.2.1\n",
            "\u001b[?25l  Downloading https://files.pythonhosted.org/packages/91/d8/7d37fec71ff7c9dbcdd80d2b48bcdd86d6af502156fc93846fb0102cb2c4/feedparser-5.2.1.tar.bz2 (192kB)\n",
            "\r\u001b[K     |█▊                              | 10kB 25.3MB/s eta 0:00:01\r\u001b[K     |███▍                            | 20kB 26.2MB/s eta 0:00:01\r\u001b[K     |█████▏                          | 30kB 32.9MB/s eta 0:00:01\r\u001b[K     |██████▉                         | 40kB 14.9MB/s eta 0:00:01\r\u001b[K     |████████▌                       | 51kB 10.4MB/s eta 0:00:01\r\u001b[K     |██████████▎                     | 61kB 11.9MB/s eta 0:00:01\r\u001b[K     |████████████                    | 71kB 10.9MB/s eta 0:00:01\r\u001b[K     |█████████████▋                  | 81kB 9.8MB/s eta 0:00:01\r\u001b[K     |███████████████▍                | 92kB 10.8MB/s eta 0:00:01\r\u001b[K     |█████████████████               | 102kB 11.0MB/s eta 0:00:01\r\u001b[K     |██████████████████▊             | 112kB 11.0MB/s eta 0:00:01\r\u001b[K     |████████████████████▌           | 122kB 11.0MB/s eta 0:00:01\r\u001b[K     |██████████████████████▏         | 133kB 11.0MB/s eta 0:00:01\r\u001b[K     |███████████████████████▉        | 143kB 11.0MB/s eta 0:00:01\r\u001b[K     |█████████████████████████▋      | 153kB 11.0MB/s eta 0:00:01\r\u001b[K     |███████████████████████████▎    | 163kB 11.0MB/s eta 0:00:01\r\u001b[K     |█████████████████████████████   | 174kB 11.0MB/s eta 0:00:01\r\u001b[K     |██████████████████████████████▊ | 184kB 11.0MB/s eta 0:00:01\r\u001b[K     |████████████████████████████████| 194kB 11.0MB/s \n",
            "\u001b[?25hRequirement already satisfied: beautifulsoup4>=4.4.1 in /usr/local/lib/python3.6/dist-packages (from newspaper3k) (4.6.3)\n",
            "Requirement already satisfied: lxml>=3.6.0 in /usr/local/lib/python3.6/dist-packages (from newspaper3k) (4.2.6)\n",
            "Requirement already satisfied: PyYAML>=3.11 in /usr/local/lib/python3.6/dist-packages (from newspaper3k) (3.13)\n",
            "Requirement already satisfied: requests>=2.10.0 in /usr/local/lib/python3.6/dist-packages (from newspaper3k) (2.21.0)\n",
            "Collecting feedfinder2>=0.0.4\n",
            "  Downloading https://files.pythonhosted.org/packages/35/82/1251fefec3bb4b03fd966c7e7f7a41c9fc2bb00d823a34c13f847fd61406/feedfinder2-0.0.4.tar.gz\n",
            "Collecting tldextract>=2.0.1\n",
            "\u001b[?25l  Downloading https://files.pythonhosted.org/packages/fd/0e/9ab599d6e78f0340bb1d1e28ddeacb38c8bb7f91a1b0eae9a24e9603782f/tldextract-2.2.2-py2.py3-none-any.whl (48kB)\n",
            "\u001b[K     |████████████████████████████████| 51kB 5.8MB/s \n",
            "\u001b[?25hCollecting tinysegmenter==0.3\n",
            "  Downloading https://files.pythonhosted.org/packages/17/82/86982e4b6d16e4febc79c2a1d68ee3b707e8a020c5d2bc4af8052d0f136a/tinysegmenter-0.3.tar.gz\n",
            "Requirement already satisfied: Pillow>=3.3.0 in /usr/local/lib/python3.6/dist-packages (from newspaper3k) (4.3.0)\n",
            "Collecting jieba3k>=0.35.1\n",
            "\u001b[?25l  Downloading https://files.pythonhosted.org/packages/a9/cb/2c8332bcdc14d33b0bedd18ae0a4981a069c3513e445120da3c3f23a8aaa/jieba3k-0.35.1.zip (7.4MB)\n",
            "\u001b[K     |████████████████████████████████| 7.4MB 11.9MB/s \n",
            "\u001b[?25hRequirement already satisfied: nltk>=3.2.1 in /usr/local/lib/python3.6/dist-packages (from newspaper3k) (3.2.5)\n",
            "Requirement already satisfied: python-dateutil>=2.5.3 in /usr/local/lib/python3.6/dist-packages (from newspaper3k) (2.6.1)\n",
            "Collecting cssselect>=0.9.2\n",
            "  Downloading https://files.pythonhosted.org/packages/3b/d4/3b5c17f00cce85b9a1e6f91096e1cc8e8ede2e1be8e96b87ce1ed09e92c5/cssselect-1.1.0-py2.py3-none-any.whl\n",
            "Requirement already satisfied: urllib3<1.25,>=1.21.1 in /usr/local/lib/python3.6/dist-packages (from requests>=2.10.0->newspaper3k) (1.24.3)\n",
            "Requirement already satisfied: certifi>=2017.4.17 in /usr/local/lib/python3.6/dist-packages (from requests>=2.10.0->newspaper3k) (2019.11.28)\n",
            "Requirement already satisfied: idna<2.9,>=2.5 in /usr/local/lib/python3.6/dist-packages (from requests>=2.10.0->newspaper3k) (2.8)\n",
            "Requirement already satisfied: chardet<3.1.0,>=3.0.2 in /usr/local/lib/python3.6/dist-packages (from requests>=2.10.0->newspaper3k) (3.0.4)\n",
            "Requirement already satisfied: six in /usr/local/lib/python3.6/dist-packages (from feedfinder2>=0.0.4->newspaper3k) (1.12.0)\n",
            "Collecting requests-file>=1.4\n",
            "  Downloading https://files.pythonhosted.org/packages/23/9c/6e63c23c39e53d3df41c77a3d05a49a42c4e1383a6d2a5e3233161b89dbf/requests_file-1.4.3-py2.py3-none-any.whl\n",
            "Requirement already satisfied: setuptools in /usr/local/lib/python3.6/dist-packages (from tldextract>=2.0.1->newspaper3k) (42.0.2)\n",
            "Requirement already satisfied: olefile in /usr/local/lib/python3.6/dist-packages (from Pillow>=3.3.0->newspaper3k) (0.46)\n",
            "Building wheels for collected packages: feedparser, feedfinder2, tinysegmenter, jieba3k\n",
            "  Building wheel for feedparser (setup.py) ... \u001b[?25l\u001b[?25hdone\n",
            "  Created wheel for feedparser: filename=feedparser-5.2.1-cp36-none-any.whl size=44940 sha256=8fd015f906cabfb365cfcb04a872cc09056718ba4bdbe6c56267803472f734b6\n",
            "  Stored in directory: /root/.cache/pip/wheels/8c/69/b7/f52763c41c5471df57703a0ef718a32a5e81ee35dcf6d4f97f\n",
            "  Building wheel for feedfinder2 (setup.py) ... \u001b[?25l\u001b[?25hdone\n",
            "  Created wheel for feedfinder2: filename=feedfinder2-0.0.4-cp36-none-any.whl size=3356 sha256=00b28efd64d26a0f1fca79f906300eefde1cd7470c43de6408536fa288de70eb\n",
            "  Stored in directory: /root/.cache/pip/wheels/de/03/ca/778e3a7a627e3d98836cc890e7cb40c7575424cfd3340f40ed\n",
            "  Building wheel for tinysegmenter (setup.py) ... \u001b[?25l\u001b[?25hdone\n",
            "  Created wheel for tinysegmenter: filename=tinysegmenter-0.3-cp36-none-any.whl size=13538 sha256=0959d0b63df8e87aeb088d5680750f2512cac95cdef95751d427c5a9ceb63d62\n",
            "  Stored in directory: /root/.cache/pip/wheels/81/2b/43/a02ede72324dd40cdd7ca53aad718c7710628e91b8b0dc0f02\n",
            "  Building wheel for jieba3k (setup.py) ... \u001b[?25l\u001b[?25hdone\n",
            "  Created wheel for jieba3k: filename=jieba3k-0.35.1-cp36-none-any.whl size=7398407 sha256=c6c8750f86456aabd1338ba7004abf1a31a8bd669224cf36ddb5a94c8bce1c79\n",
            "  Stored in directory: /root/.cache/pip/wheels/83/15/9c/a3f1f67e7f7181170ad37d32e503c35da20627c013f438ed34\n",
            "Successfully built feedparser feedfinder2 tinysegmenter jieba3k\n",
            "Installing collected packages: feedparser, feedfinder2, requests-file, tldextract, tinysegmenter, jieba3k, cssselect, newspaper3k\n",
            "Successfully installed cssselect-1.1.0 feedfinder2-0.0.4 feedparser-5.2.1 jieba3k-0.35.1 newspaper3k-0.2.8 requests-file-1.4.3 tinysegmenter-0.3 tldextract-2.2.2\n"
          ],
          "name": "stdout"
        }
      ]
    },
    {
      "cell_type": "code",
      "metadata": {
        "id": "2IwtRInPjI4x",
        "colab_type": "code",
        "colab": {}
      },
      "source": [
        "#import the libraries\n",
        "from textblob import TextBlob\n",
        "import nltk\n",
        "from newspaper import Article"
      ],
      "execution_count": 0,
      "outputs": []
    },
    {
      "cell_type": "code",
      "metadata": {
        "id": "3JRxkzupjkMV",
        "colab_type": "code",
        "colab": {}
      },
      "source": [
        "#Get the article\n",
        "url='https://everythingcomputerscience.com'\n",
        "article=Article(url)"
      ],
      "execution_count": 0,
      "outputs": []
    },
    {
      "cell_type": "code",
      "metadata": {
        "id": "VgTFj21lkG-E",
        "colab_type": "code",
        "colab": {
          "base_uri": "https://localhost:8080/",
          "height": 53
        },
        "outputId": "a0bc6265-dcd0-4313-f950-23a4c6078fca"
      },
      "source": [
        "#Do some Natural Language Processing\n",
        "article.download()\n",
        "article.parse()\n",
        "nltk.download('punkt')\n",
        "article.nlp()\n"
      ],
      "execution_count": 8,
      "outputs": [
        {
          "output_type": "stream",
          "text": [
            "[nltk_data] Downloading package punkt to /root/nltk_data...\n",
            "[nltk_data]   Unzipping tokenizers/punkt.zip.\n"
          ],
          "name": "stdout"
        }
      ]
    },
    {
      "cell_type": "code",
      "metadata": {
        "id": "iqPLkULikfSj",
        "colab_type": "code",
        "colab": {
          "base_uri": "https://localhost:8080/",
          "height": 110
        },
        "outputId": "610cc7ee-af84-46fb-a0d7-96392dd11302"
      },
      "source": [
        "#Getthe summary of the article\n",
        "text=article.summary\n",
        "#print the text\n",
        "print(text)"
      ],
      "execution_count": 9,
      "outputs": [
        {
          "output_type": "stream",
          "text": [
            "Computer Science (CS)Computer Science (CS) is the study of the principles and use of computers.\n",
            "Simply put it's the science that deals with the theory and methods of processing information in digital computers, the design of computer hardware and software, and the applications of computers.\n",
            "A computer is simply a tool for a computer scientist, like a telescope for an astronomer.\n",
            "Teach yourself !\n"
          ],
          "name": "stdout"
        }
      ]
    },
    {
      "cell_type": "code",
      "metadata": {
        "id": "V7OSBo76lEgK",
        "colab_type": "code",
        "colab": {
          "base_uri": "https://localhost:8080/",
          "height": 35
        },
        "outputId": "c30253fe-090e-4633-c0a6-11447902e13d"
      },
      "source": [
        "#Create a TextBlob object\n",
        "obj=TextBlob(text)\n",
        "sentiment=obj.sentiment.polarity\n",
        "print(sentiment)"
      ],
      "execution_count": 11,
      "outputs": [
        {
          "output_type": "stream",
          "text": [
            "0.0\n"
          ],
          "name": "stdout"
        }
      ]
    },
    {
      "cell_type": "code",
      "metadata": {
        "id": "qpaVYu23lW3S",
        "colab_type": "code",
        "colab": {
          "base_uri": "https://localhost:8080/",
          "height": 134
        },
        "outputId": "6c9e1782-5161-4619-b50d-6088e54f9364"
      },
      "source": [
        "if sentiment ==0:\n",
        "  print('The text is neutral')\n",
        "  elif sentiment > 0:\n",
        "    print('The text is positive')\n",
        "    else:\n",
        "      print('The text is negative')"
      ],
      "execution_count": 16,
      "outputs": [
        {
          "output_type": "error",
          "ename": "SyntaxError",
          "evalue": "ignored",
          "traceback": [
            "\u001b[0;36m  File \u001b[0;32m\"<ipython-input-16-8be6d72fb6bb>\"\u001b[0;36m, line \u001b[0;32m3\u001b[0m\n\u001b[0;31m    elif sentiment > 0:\u001b[0m\n\u001b[0m       ^\u001b[0m\n\u001b[0;31mSyntaxError\u001b[0m\u001b[0;31m:\u001b[0m invalid syntax\n"
          ]
        }
      ]
    },
    {
      "cell_type": "code",
      "metadata": {
        "id": "e0iQ0pi5lkf0",
        "colab_type": "code",
        "colab": {}
      },
      "source": [
        ""
      ],
      "execution_count": 0,
      "outputs": []
    },
    {
      "cell_type": "code",
      "metadata": {
        "id": "E8xa7UYSlkbO",
        "colab_type": "code",
        "colab": {}
      },
      "source": [
        ""
      ],
      "execution_count": 0,
      "outputs": []
    }
  ]
}